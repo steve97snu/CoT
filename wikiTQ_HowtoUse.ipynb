{
 "cells": [
  {
   "cell_type": "code",
   "execution_count": 1,
   "id": "cfc10109",
   "metadata": {},
   "outputs": [],
   "source": [
    "from datasets import load_dataset\n",
    "import time\n",
    "import pandas as pd\n",
    "import re\n",
    "import os\n",
    "import json\n",
    "import requests\n",
    "import torch\n",
    "import numpy as np"
   ]
  },
  {
   "cell_type": "code",
   "execution_count": 2,
   "id": "e5335562",
   "metadata": {},
   "outputs": [
    {
     "name": "stdout",
     "output_type": "stream",
     "text": [
      "DatasetDict({\n",
      "    train: Dataset({\n",
      "        features: ['id', 'question', 'answers', 'table'],\n",
      "        num_rows: 11321\n",
      "    })\n",
      "    test: Dataset({\n",
      "        features: ['id', 'question', 'answers', 'table'],\n",
      "        num_rows: 4344\n",
      "    })\n",
      "    validation: Dataset({\n",
      "        features: ['id', 'question', 'answers', 'table'],\n",
      "        num_rows: 2831\n",
      "    })\n",
      "})\n"
     ]
    }
   ],
   "source": [
    "# 데이터셋 로드\n",
    "dataset = load_dataset(\"Stanford/wikitablequestions\", trust_remote_code=True)\n",
    "\n",
    "# 데이터셋 구조 확인\n",
    "print(dataset)"
   ]
  },
  {
   "cell_type": "code",
   "execution_count": 6,
   "id": "218d0377",
   "metadata": {},
   "outputs": [],
   "source": [
    "class WikiTQ:\n",
    "    def __init__(self, dataset, index):\n",
    "        \"\"\"데이터셋과 인덱스를 받아 객체를 초기화합니다.\"\"\"\n",
    "        self.dataset = dataset\n",
    "        self.index = index\n",
    "        self._extract_data()  # 내부 데이터 추출\n",
    "\n",
    "    def _extract_data(self):\n",
    "        \"\"\"데이터에서 테이블과 관련된 정보를 추출하여 저장\"\"\"\n",
    "        entry = self.dataset['train'][self.index]\n",
    "\n",
    "        # 테이블 정보 추출 및 DataFrame 생성\n",
    "        self.table_header = entry['table']['header']\n",
    "        self.table_rows = entry['table']['rows']\n",
    "        self.df = pd.DataFrame(self.table_rows, columns=self.table_header)\n",
    "\n",
    "        # 기타 정보 추출\n",
    "        self.question = entry['question']\n",
    "        self.answers = entry['answers']\n",
    "\n",
    "    # Getter 메서드들\n",
    "    def get_table(self):\n",
    "        \"\"\"테이블(DataFrame) 반환\"\"\"\n",
    "        return self.df\n",
    "\n",
    "    def get_question(self):\n",
    "        \"\"\"질문 반환\"\"\"\n",
    "        return self.question\n",
    "\n",
    "    def get_answers(self):\n",
    "        \"\"\"정답 목록 반환\"\"\"\n",
    "        return self.answers\n",
    "\n",
    "    def display_all(self):\n",
    "        \"\"\"모든 정보를 출력\"\"\"\n",
    "        print(\"Table DataFrame:\")\n",
    "        print(self.df)\n",
    "        print(\"\\nQuestion:\", self.question)\n",
    "        print(\"\\nAnswers:\", self.answers)"
   ]
  },
  {
   "cell_type": "code",
   "execution_count": 14,
   "id": "708a329a",
   "metadata": {},
   "outputs": [],
   "source": [
    "index = 6\n",
    "# 객체 생성\n",
    "wiki_tq = WikiTQ(dataset, index)\n",
    "\n",
    "# 메서드 사용 예시\n",
    "df = wiki_tq.get_table()\n",
    "question = wiki_tq.get_question()\n",
    "answers = wiki_tq.get_answers()\n",
    "\n",
    "# markdown_df = df.to_markdown(index=False)\n",
    "# print(markdown_df)\n"
   ]
  },
  {
   "cell_type": "code",
   "execution_count": 15,
   "id": "d5fbc0d0",
   "metadata": {},
   "outputs": [
    {
     "name": "stdout",
     "output_type": "stream",
     "text": [
      "how many times did an italian cyclist win a round?\n",
      "[['Round', 'Round', 'Circuit', 'Date', 'Pole Position', 'Fastest Lap', 'Winning Rider'], ['1', 'R1', 'Jerez', '18 March', 'Raymond Roche', 'Stéphane Mertens', 'Raymond Roche'], ['1', 'R2', 'Jerez', '18 March', 'Raymond Roche', 'Raymond Roche', 'Raymond Roche'], ['2', 'R1', 'Donington', '16 April', 'Giancarlo Falappa', 'Rob Phillis', 'Fred Merkel'], ['2', 'R2', 'Donington', '16 April', 'Giancarlo Falappa', 'Raymond Roche', 'Giancarlo Falappa'], ['3', 'R1', 'Hungaroring', '30 April', 'Malcolm Campbell', 'Raymond Roche', 'Fred Merkel'], ['3', 'R2', 'Hungaroring', '30 April', 'Malcolm Campbell', 'Fred Merkel', 'Raymond Roche'], ['4', 'R1', 'Hockenheim', '6 May', 'Raymond Roche', 'Fred Merkel', 'Fred Merkel'], ['4', 'R2', 'Hockenheim', '6 May', 'Raymond Roche', 'Raymond Roche', 'Stéphane Mertens'], ['5', 'R1', 'Mosport', '3 June', 'Giancarlo Falappa', 'Raymond Roche', 'Raymond Roche'], ['5', 'R2', 'Mosport', '3 June', 'Giancarlo Falappa', 'Jamie James', 'Raymond Roche'], ['6', 'R1', 'Brainerd', '10 June', 'Doug Chandler', 'Doug Chandler', 'Stéphane Mertens'], ['6', 'R2', 'Brainerd', '10 June', 'Doug Chandler', 'Fabrizio Pirovano', 'Doug Chandler'], ['7', 'R1', 'Österreichring', '1 July', 'Stéphane Mertens', 'Rob McElnea', 'Fabrizio Pirovano'], ['7', 'R2', 'Österreichring', '1 July', 'Stéphane Mertens', 'Stéphane Mertens', 'Stéphane Mertens'], ['8', 'R1', 'Sugo', '26 August', 'Raymond Roche', 'Raymond Roche', 'Raymond Roche'], ['8', 'R2', 'Sugo', '26 August', 'Raymond Roche', 'Peter Goddard', 'Doug Chandler'], ['9', 'R1', 'Le Mans', '9 September', 'Baldassarre Monti', 'Raymond Roche', 'Raymond Roche'], ['9', 'R2', 'Le Mans', '9 September', 'Baldassarre Monti', 'Jamie James', 'Raymond Roche'], ['10', 'R1', 'Monza', '7 October', 'Baldassarre Monti', 'Rob Phillis', 'Fabrizio Pirovano'], ['10', 'R2', 'Monza', '7 October', 'Baldassarre Monti', 'Rob Phillis', 'Fabrizio Pirovano'], ['11', 'R1', 'Shah Alam', '4 November', 'Rob Phillis', 'Fabrizio Pirovano', 'Fabrizio Pirovano'], ['11', 'R2', 'Shah Alam', '4 November', 'Rob Phillis', 'Raymond Roche', 'Fabrizio Pirovano'], ['12', 'R1', 'Phillip Island', '11 November', 'Peter Goddard', 'Fabrizio Pirovano', 'Peter Goddard'], ['12', 'R2', 'Phillip Island', '11 November', 'Peter Goddard', 'Malcolm Campbell', 'Rob Phillis'], ['13', 'R1', 'Manfeild', '18 November', 'Rob Phillis', 'Brian Morrison', 'Terry Rymer'], ['13', 'R2', 'Manfeild', '18 November', 'Rob Phillis', 'Raymond Roche', 'Rob Phillis']]\n",
      "['6']\n"
     ]
    }
   ],
   "source": [
    "# Convert the DataFrame into a list of rows\n",
    "list_of_rows = df.values.tolist()\n",
    "\n",
    "# Add the header as the first row\n",
    "list_of_rows.insert(0, df.columns.tolist())\n",
    "\n",
    "# Output the list of rows\n",
    "print(question)\n",
    "print(list_of_rows)\n",
    "print(answers)"
   ]
  },
  {
   "cell_type": "code",
   "execution_count": 9,
   "id": "f7f0cfa6",
   "metadata": {},
   "outputs": [
    {
     "data": {
      "text/plain": [
       "'how many people stayed at least 3 years in office?'"
      ]
     },
     "execution_count": 9,
     "metadata": {},
     "output_type": "execute_result"
    }
   ],
   "source": [
    "question"
   ]
  },
  {
   "cell_type": "code",
   "execution_count": 10,
   "id": "3747260a",
   "metadata": {},
   "outputs": [
    {
     "data": {
      "text/plain": [
       "['4']"
      ]
     },
     "execution_count": 10,
     "metadata": {},
     "output_type": "execute_result"
    }
   ],
   "source": [
    "answers"
   ]
  },
  {
   "cell_type": "code",
   "execution_count": 11,
   "id": "3fd03b19",
   "metadata": {},
   "outputs": [
    {
     "data": {
      "text/plain": [
       "'4'"
      ]
     },
     "execution_count": 11,
     "metadata": {},
     "output_type": "execute_result"
    }
   ],
   "source": [
    "answers_text = ', '.join(map(str, answers))\n",
    "answers_text"
   ]
  }
 ],
 "metadata": {
  "kernelspec": {
   "display_name": "base",
   "language": "python",
   "name": "python3"
  },
  "language_info": {
   "codemirror_mode": {
    "name": "ipython",
    "version": 3
   },
   "file_extension": ".py",
   "mimetype": "text/x-python",
   "name": "python",
   "nbconvert_exporter": "python",
   "pygments_lexer": "ipython3",
   "version": "3.12.4"
  }
 },
 "nbformat": 4,
 "nbformat_minor": 5
}
